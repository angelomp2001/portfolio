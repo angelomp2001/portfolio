{
  "cells": [
    {
      "cell_type": "markdown",
      "metadata": {
        "id": "AELje-nJjyo_"
      },
      "source": [
        "# Folder Structure"
      ]
    },
    {
      "cell_type": "markdown",
      "metadata": {
        "id": "04IpvLO4fmxe"
      },
      "source": [
        "# Business Rules"
      ]
    },
    {
      "cell_type": "markdown",
      "metadata": {
        "id": "M-DFCyUyf1jI"
      },
      "source": [
        "## Domain/"
      ]
    },
    {
      "cell_type": "markdown",
      "metadata": {
        "id": "o_n63-jShR1H"
      },
      "source": [
        "### statistics.py"
      ]
    },
    {
      "cell_type": "code",
      "execution_count": 4,
      "metadata": {
        "id": "nX5toTN1fcte"
      },
      "outputs": [],
      "source": [
        "# domain/statistics.py\n",
        "import pandas as pd\n",
        "\n",
        "class Statistics:\n",
        "    @staticmethod\n",
        "    def summarize(df: pd.DataFrame):\n",
        "        return {\n",
        "            \"rows\": len(df),\n",
        "            \"columns\": len(df.columns),\n",
        "            \"missing\": df.isna().sum().to_dict(),\n",
        "            \"numeric_summary\": df.describe().to_dict()\n",
        "        }\n",
        "\n",
        "    @staticmethod\n",
        "    def add_revenue(df: pd.DataFrame):\n",
        "        df[\"revenue\"] = df[\"price\"] * df[\"quantity\"]\n",
        "        return df\n"
      ]
    },
    {
      "cell_type": "markdown",
      "metadata": {
        "id": "vqbQD_ubf8c_"
      },
      "source": [
        "# Interfaces"
      ]
    },
    {
      "cell_type": "markdown",
      "metadata": {
        "id": "yjCGs3Qmf_X_"
      },
      "source": [
        "## Interfaces/"
      ]
    },
    {
      "cell_type": "markdown",
      "metadata": {
        "id": "KC85ZQEahY4n"
      },
      "source": [
        "### data_loader.py"
      ]
    },
    {
      "cell_type": "code",
      "execution_count": 5,
      "metadata": {
        "id": "Nh1wXk_Pfswa"
      },
      "outputs": [],
      "source": [
        "# interfaces/data_loader.py\n",
        "from abc import ABC, abstractmethod\n",
        "import pandas as pd\n",
        "\n",
        "class DataLoader(ABC):\n",
        "    @abstractmethod\n",
        "    def load(self) -> pd.DataFrame:\n",
        "        pass\n",
        "\n",
        "# interfaces/visualizer.py\n",
        "class Visualizer(ABC):\n",
        "    @abstractmethod\n",
        "    def plot(self, df):\n",
        "        pass"
      ]
    },
    {
      "cell_type": "markdown",
      "metadata": {
        "id": "mdPL2MrxgE1P"
      },
      "source": [
        "# Infrastructure"
      ]
    },
    {
      "cell_type": "markdown",
      "metadata": {
        "id": "m_pF3NvJgHj3"
      },
      "source": [
        "## Infrastructure/"
      ]
    },
    {
      "cell_type": "markdown",
      "metadata": {
        "id": "UURLNDzHhn3W"
      },
      "source": [
        "### csv_loader.py"
      ]
    },
    {
      "cell_type": "code",
      "execution_count": 6,
      "metadata": {
        "colab": {
          "base_uri": "https://localhost:8080/",
          "height": 401
        },
        "id": "XXspeqAIgKCu",
        "outputId": "88b81d15-cd79-4af1-bb9c-78af4aec19a6"
      },
      "outputs": [
        {
          "ename": "ModuleNotFoundError",
          "evalue": "No module named 'interfaces'",
          "output_type": "error",
          "traceback": [
            "\u001b[0;31m---------------------------------------------------------------------------\u001b[0m",
            "\u001b[0;31mModuleNotFoundError\u001b[0m                       Traceback (most recent call last)",
            "\u001b[0;32m/tmp/ipython-input-230963359.py\u001b[0m in \u001b[0;36m<cell line: 0>\u001b[0;34m()\u001b[0m\n\u001b[1;32m      1\u001b[0m \u001b[0;31m# infrastructure/csv_loader.py\u001b[0m\u001b[0;34m\u001b[0m\u001b[0;34m\u001b[0m\u001b[0m\n\u001b[1;32m      2\u001b[0m \u001b[0;32mimport\u001b[0m \u001b[0mpandas\u001b[0m \u001b[0;32mas\u001b[0m \u001b[0mpd\u001b[0m\u001b[0;34m\u001b[0m\u001b[0;34m\u001b[0m\u001b[0m\n\u001b[0;32m----> 3\u001b[0;31m \u001b[0;32mfrom\u001b[0m \u001b[0minterfaces\u001b[0m\u001b[0;34m.\u001b[0m\u001b[0mdata_loader\u001b[0m \u001b[0;32mimport\u001b[0m \u001b[0mDataLoader\u001b[0m\u001b[0;34m\u001b[0m\u001b[0;34m\u001b[0m\u001b[0m\n\u001b[0m\u001b[1;32m      4\u001b[0m \u001b[0;34m\u001b[0m\u001b[0m\n\u001b[1;32m      5\u001b[0m \u001b[0;32mclass\u001b[0m \u001b[0mCsvLoader\u001b[0m\u001b[0;34m(\u001b[0m\u001b[0mDataLoader\u001b[0m\u001b[0;34m)\u001b[0m\u001b[0;34m:\u001b[0m\u001b[0;34m\u001b[0m\u001b[0;34m\u001b[0m\u001b[0m\n",
            "\u001b[0;31mModuleNotFoundError\u001b[0m: No module named 'interfaces'",
            "",
            "\u001b[0;31m---------------------------------------------------------------------------\u001b[0;32m\nNOTE: If your import is failing due to a missing package, you can\nmanually install dependencies using either !pip or !apt.\n\nTo view examples of installing some common dependencies, click the\n\"Open Examples\" button below.\n\u001b[0;31m---------------------------------------------------------------------------\u001b[0m\n"
          ]
        }
      ],
      "source": [
        "# infrastructure/csv_loader.py\n",
        "import pandas as pd\n",
        "from interfaces.data_loader import DataLoader\n",
        "\n",
        "class CsvLoader(DataLoader):\n",
        "    def __init__(self, filepath):\n",
        "        self.filepath = filepath\n",
        "\n",
        "    def load(self):\n",
        "        return pd.read_csv(self.filepath)"
      ]
    },
    {
      "cell_type": "markdown",
      "metadata": {
        "id": "-NPZ4B33hsu_"
      },
      "source": [
        "### mpl_visualizer.py"
      ]
    },
    {
      "cell_type": "code",
      "execution_count": null,
      "metadata": {
        "id": "_GamRu7ogeCX"
      },
      "outputs": [],
      "source": [
        "# infrastructure/mpl_visualizer.py\n",
        "import matplotlib.pyplot as plt\n",
        "from interfaces.visualizer import Visualizer\n",
        "\n",
        "class MplVisualizer(Visualizer):\n",
        "    def plot(self, df):\n",
        "        df.hist(figsize=(10, 6))\n",
        "        plt.show()"
      ]
    },
    {
      "cell_type": "markdown",
      "metadata": {
        "id": "IZum9BregMN_"
      },
      "source": [
        "# Application Layer"
      ]
    },
    {
      "cell_type": "markdown",
      "metadata": {
        "id": "g1-L-m2FgPn3"
      },
      "source": [
        "## Use_Cases"
      ]
    },
    {
      "cell_type": "markdown",
      "metadata": {
        "id": "Q_W9KpVwh0W_"
      },
      "source": [
        "### run_eda.py"
      ]
    },
    {
      "cell_type": "code",
      "execution_count": null,
      "metadata": {
        "id": "GcvchiwGgTbH"
      },
      "outputs": [],
      "source": [
        "# use_cases/run_eda.py\n",
        "from domain.statistics import Statistics\n",
        "\n",
        "class RunEDA:\n",
        "    def __init__(self, loader, visualizer):\n",
        "        self.loader = loader\n",
        "        self.visualizer = visualizer\n",
        "\n",
        "    def execute(self):\n",
        "        df = self.loader.load()\n",
        "        df = Statistics.add_revenue(df)\n",
        "        summary = Statistics.summarize(df)\n",
        "        self.visualizer.plot(df)\n",
        "        return summary"
      ]
    },
    {
      "cell_type": "markdown",
      "metadata": {
        "id": "yvmA3YQygp4X"
      },
      "source": [
        "# Outer layer"
      ]
    },
    {
      "cell_type": "markdown",
      "metadata": {
        "id": "Zzuhx9xeg4rG"
      },
      "source": [
        "## Main.py"
      ]
    },
    {
      "cell_type": "code",
      "execution_count": null,
      "metadata": {
        "id": "X6Y90VYKgo9A"
      },
      "outputs": [],
      "source": [
        "# main.py\n",
        "from infrastructure.csv_loader import CsvLoader\n",
        "from infrastructure.mpl_visualizer import MplVisualizer\n",
        "from use_cases.run_eda import RunEDA\n",
        "\n",
        "loader = CsvLoader(\"data/sales.csv\")\n",
        "visualizer = MplVisualizer()\n",
        "\n",
        "eda = RunEDA(loader, visualizer)\n",
        "summary = eda.execute()\n",
        "\n",
        "print(summary)"
      ]
    },
    {
      "cell_type": "markdown",
      "metadata": {
        "id": "TY4mdPZajF6W"
      },
      "source": [
        "\n",
        "\n",
        "```\n",
        "Project/\n",
        "│\n",
        "├── Domain/\n",
        "│   └── statistics.py           # Core logic, data transformations, metrics\n",
        "│\n",
        "├── Interfaces/\n",
        "│   ├── data_loader.py          # Abstract DataLoader\n",
        "│   └── visualizer.py           # Abstract Visualizer\n",
        "│\n",
        "├── Infrastructure/\n",
        "│   ├── csv_loader.py           # Implementation: CSV -> pandas\n",
        "│   └── mpl_visualizer.py       # Implementation: plotting with Matplotlib\n",
        "│\n",
        "├── Use_Cases/\n",
        "│   └── run_eda.py              # Orchestrates loading, analysis, visualization\n",
        "│\n",
        "└── main.py                     # Entry point\n",
        "```\n",
        "\n"
      ]
    }
  ],
  "metadata": {
    "colab": {
      "provenance": []
    },
    "kernelspec": {
      "display_name": "Python 3",
      "name": "python3"
    },
    "language_info": {
      "name": "python"
    }
  },
  "nbformat": 4,
  "nbformat_minor": 0
}
