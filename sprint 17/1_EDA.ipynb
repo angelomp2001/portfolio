{
 "cells": [
  {
   "cell_type": "code",
   "execution_count": 35,
   "metadata": {},
   "outputs": [],
   "source": [
    "import pandas as pd\n",
    "import datetime as dt\n",
    "import numpy as np"
   ]
  },
  {
   "cell_type": "code",
   "execution_count": 19,
   "metadata": {},
   "outputs": [],
   "source": [
    "contract_df = pd.read_csv('contract.csv', sep = ',')\n",
    "internet_df = pd.read_csv('internet.csv', sep = ',')\n",
    "personal_df = pd.read_csv('personal.csv', sep = ',')\n",
    "phone_df = pd.read_csv('phone.csv', sep = ',')"
   ]
  },
  {
   "cell_type": "code",
   "execution_count": 36,
   "metadata": {},
   "outputs": [
    {
     "name": "stdout",
     "output_type": "stream",
     "text": [
      "   customerID  BeginDate              EndDate            Type  \\\n",
      "0  7590-VHVEG 2020-01-01                   No  Month-to-month   \n",
      "1  5575-GNVDE 2017-04-01                   No        One year   \n",
      "2  3668-QPYBK 2019-10-01  2019-12-01 00:00:00  Month-to-month   \n",
      "3  7795-CFOCW 2016-05-01                   No        One year   \n",
      "4  9237-HQITU 2019-09-01  2019-11-01 00:00:00  Month-to-month   \n",
      "\n",
      "  PaperlessBilling              PaymentMethod  MonthlyCharges TotalCharges  \n",
      "0              Yes           Electronic check           29.85        29.85  \n",
      "1               No               Mailed check           56.95       1889.5  \n",
      "2              Yes               Mailed check           53.85       108.15  \n",
      "3               No  Bank transfer (automatic)           42.30      1840.75  \n",
      "4              Yes           Electronic check           70.70       151.65  \n"
     ]
    },
    {
     "data": {
      "text/plain": [
       "No                     5174\n",
       "2019-11-01 00:00:00     485\n",
       "2019-12-01 00:00:00     466\n",
       "2020-01-01 00:00:00     460\n",
       "2019-10-01 00:00:00     458\n",
       "Name: EndDate, dtype: int64"
      ]
     },
     "execution_count": 36,
     "metadata": {},
     "output_type": "execute_result"
    }
   ],
   "source": [
    "print(contract_df.head())\n",
    "\n",
    "# BeginDate\n",
    "contract_df['BeginDate'] = pd.to_datetime(contract_df['BeginDate'])"
   ]
  },
  {
   "cell_type": "code",
   "execution_count": 48,
   "metadata": {},
   "outputs": [
    {
     "data": {
      "text/plain": [
       "No     5174\n",
       "Yes    1869\n",
       "Name: EndDate, dtype: int64"
      ]
     },
     "execution_count": 48,
     "metadata": {},
     "output_type": "execute_result"
    }
   ],
   "source": [
    "# EndDate\n",
    "contract_df['EndDate'].value_counts()\n",
    "#EndDate = contract_df['EndDate'].where(contract_df['EndDate'] == \"No\", \"Yes\")\n",
    "EndDate.value_counts()"
   ]
  },
  {
   "cell_type": "code",
   "execution_count": 55,
   "metadata": {},
   "outputs": [
    {
     "name": "stdout",
     "output_type": "stream",
     "text": [
      "Month-to-month    3875\n",
      "Two year          1695\n",
      "One year          1473\n",
      "Name: Type, dtype: int64\n",
      "Yes    4171\n",
      "No     2872\n",
      "Name: PaperlessBilling, dtype: int64\n",
      "Electronic check             2365\n",
      "Mailed check                 1612\n",
      "Bank transfer (automatic)    1544\n",
      "Credit card (automatic)      1522\n",
      "Name: PaymentMethod, dtype: int64\n",
      "count    7043.000000\n",
      "mean       64.761692\n",
      "std        30.090047\n",
      "min        18.250000\n",
      "25%        35.500000\n",
      "50%        70.350000\n",
      "75%        89.850000\n",
      "max       118.750000\n",
      "Name: MonthlyCharges, dtype: float64\n",
      "count     7043\n",
      "unique    6531\n",
      "top       20.2\n",
      "freq        11\n",
      "Name: TotalCharges, dtype: object\n"
     ]
    }
   ],
   "source": [
    "# Type, PaperlessBilling, PaymentMethod, MonthlyCharges\n",
    "print(contract_df['Type'].value_counts())\n",
    "print(contract_df['PaperlessBilling'].value_counts())\n",
    "print(contract_df['PaymentMethod'].value_counts())\n",
    "print(contract_df['MonthlyCharges'].describe())"
   ]
  },
  {
   "cell_type": "code",
   "execution_count": 60,
   "metadata": {},
   "outputs": [
    {
     "name": "stdout",
     "output_type": "stream",
     "text": [
      "      customerID  BeginDate EndDate      Type PaperlessBilling  \\\n",
      "488   4472-LVYGI 2020-02-01      No  Two year              Yes   \n",
      "753   3115-CZMZD 2020-02-01      No  Two year               No   \n",
      "936   5709-LVOEQ 2020-02-01      No  Two year               No   \n",
      "1082  4367-NUYAO 2020-02-01      No  Two year               No   \n",
      "1340  1371-DWPAZ 2020-02-01      No  Two year               No   \n",
      "3331  7644-OMVMY 2020-02-01      No  Two year               No   \n",
      "3826  3213-VVOLG 2020-02-01      No  Two year               No   \n",
      "4380  2520-SGTTA 2020-02-01      No  Two year               No   \n",
      "5218  2923-ARZLG 2020-02-01      No  One year              Yes   \n",
      "6670  4075-WKNIU 2020-02-01      No  Two year               No   \n",
      "6754  2775-SEFEE 2020-02-01      No  Two year              Yes   \n",
      "\n",
      "                  PaymentMethod  MonthlyCharges TotalCharges  \n",
      "488   Bank transfer (automatic)           52.55               \n",
      "753                Mailed check           20.25               \n",
      "936                Mailed check           80.85               \n",
      "1082               Mailed check           25.75               \n",
      "1340    Credit card (automatic)           56.05               \n",
      "3331               Mailed check           19.85               \n",
      "3826               Mailed check           25.35               \n",
      "4380               Mailed check           20.00               \n",
      "5218               Mailed check           19.70               \n",
      "6670               Mailed check           73.35               \n",
      "6754  Bank transfer (automatic)           61.90               \n"
     ]
    }
   ],
   "source": [
    "# TotalCharges\n",
    "print(contract_df[contract_df['TotalCharges'] == \" \"])\n",
    "    #.value_counts())#.astype('float64').describe())\n",
    "\n",
    "# Is the reason there are 11 rows where TotalCharges == \" \" because BeginDate == 2020-02-01, so therefore, they haven't been billed yet?\n",
    "# I would replace ' ' with MonthlyCharges\n"
   ]
  },
  {
   "cell_type": "code",
   "execution_count": 77,
   "metadata": {},
   "outputs": [
    {
     "name": "stdout",
     "output_type": "stream",
     "text": [
      "   customerID InternetService OnlineSecurity OnlineBackup DeviceProtection  \\\n",
      "0  7590-VHVEG             DSL             No          Yes               No   \n",
      "1  5575-GNVDE             DSL            Yes           No              Yes   \n",
      "2  3668-QPYBK             DSL            Yes          Yes               No   \n",
      "3  7795-CFOCW             DSL            Yes           No              Yes   \n",
      "4  9237-HQITU     Fiber optic             No           No               No   \n",
      "\n",
      "  TechSupport StreamingTV StreamingMovies  \n",
      "0          No          No              No  \n",
      "1          No          No              No  \n",
      "2          No          No              No  \n",
      "3         Yes          No              No  \n",
      "4          No          No              No  \n",
      "Fiber optic    3096\n",
      "DSL            2421\n",
      "Name: InternetService, dtype: int64\n",
      "No     3498\n",
      "Yes    2019\n",
      "Name: OnlineSecurity, dtype: int64\n",
      "No     3088\n",
      "Yes    2429\n",
      "Name: OnlineBackup, dtype: int64\n",
      "No     3095\n",
      "Yes    2422\n",
      "Name: DeviceProtection, dtype: int64\n",
      "No     3473\n",
      "Yes    2044\n",
      "Name: TechSupport, dtype: int64\n",
      "No     2810\n",
      "Yes    2707\n",
      "Name: StreamingTV, dtype: int64\n",
      "No     2785\n",
      "Yes    2732\n",
      "Name: StreamingMovies, dtype: int64\n"
     ]
    }
   ],
   "source": [
    "# internet_df\n",
    "print(internet_df.head())\n",
    "print(internet_df['InternetService'].value_counts())\n",
    "print(internet_df['OnlineSecurity'].value_counts())\n",
    "print(internet_df['OnlineBackup'].value_counts())\n",
    "print(internet_df['DeviceProtection'].value_counts())\n",
    "print(internet_df['TechSupport'].value_counts())\n",
    "print(internet_df['StreamingTV'].value_counts())\n",
    "print(internet_df['StreamingMovies'].value_counts())"
   ]
  },
  {
   "cell_type": "code",
   "execution_count": 81,
   "metadata": {},
   "outputs": [
    {
     "name": "stdout",
     "output_type": "stream",
     "text": [
      "Male      3555\n",
      "Female    3488\n",
      "Name: gender, dtype: int64\n",
      "0    5901\n",
      "1    1142\n",
      "Name: SeniorCitizen, dtype: int64\n",
      "No     3641\n",
      "Yes    3402\n",
      "Name: Partner, dtype: int64\n",
      "No     4933\n",
      "Yes    2110\n",
      "Name: Dependents, dtype: int64\n"
     ]
    }
   ],
   "source": [
    "personal_df.head()\n",
    "print(personal_df['gender'].value_counts())\n",
    "print(personal_df['SeniorCitizen'].value_counts())\n",
    "print(personal_df['Partner'].value_counts())\n",
    "print(personal_df['Dependents'].value_counts())"
   ]
  },
  {
   "cell_type": "code",
   "execution_count": 84,
   "metadata": {},
   "outputs": [
    {
     "name": "stdout",
     "output_type": "stream",
     "text": [
      "Index(['customerID', 'MultipleLines'], dtype='object')\n",
      "No     3390\n",
      "Yes    2971\n",
      "Name: MultipleLines, dtype: int64\n"
     ]
    }
   ],
   "source": [
    "print(phone_df.head().columns)\n",
    "print(phone_df['MultipleLines'].value_counts())"
   ]
  },
  {
   "cell_type": "markdown",
   "metadata": {},
   "source": [
    "# List of clarifying questions\n",
    "1. For contract_df['TotalCharges'] is the reason there are 11 rows where TotalCharges == \" \" because BeginDate == 2020-02-01, so therefore, they haven't been billed yet? Would it make sense to replace ' ' with the MonthlyCharges value? Alternatively, I would just drop those 11 rows.  "
   ]
  },
  {
   "cell_type": "code",
   "execution_count": null,
   "metadata": {},
   "outputs": [],
   "source": [
    "<div class=\"alert alert-block alert-success\">\n",
    "<b>Reviewer's comment</b> <a class=\"tocSkip\"></a>\n",
    "\n",
    "Answer to questions: <br>\n",
    "1. Dropping those rows would be fine, \n",
    "</div>"
   ]
  },
  {
   "cell_type": "markdown",
   "metadata": {},
   "source": [
    "# Project Plan\n",
    "1. Download data\n",
    "2. Address missing data\n",
    "3. Address EndData values\n",
    "4. Ensure data types are correct\n",
    "5. Feature engineering\n",
    "6. Merge data\n",
    "7. Vectorize data\n",
    "8. Model using various models\n",
    "9. Choose best model based on AUC-ROC"
   ]
  },
  {
   "cell_type": "code",
   "execution_count": null,
   "metadata": {},
   "outputs": [],
   "source": []
  }
 ],
 "metadata": {
  "kernelspec": {
   "display_name": "Python 3 (ipykernel)",
   "language": "python",
   "name": "python3"
  },
  "language_info": {
   "codemirror_mode": {
    "name": "ipython",
    "version": 3
   },
   "file_extension": ".py",
   "mimetype": "text/x-python",
   "name": "python",
   "nbconvert_exporter": "python",
   "pygments_lexer": "ipython3",
   "version": "3.9.23"
  }
 },
 "nbformat": 4,
 "nbformat_minor": 4
}
